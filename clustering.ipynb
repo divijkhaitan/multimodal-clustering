{
 "cells": [
  {
   "cell_type": "code",
   "execution_count": null,
   "metadata": {},
   "outputs": [],
   "source": [
    "import numpy as np\n",
    "import matplotlib.pyplot as plt\n",
    "from sklearn.manifold import TSNE\n",
    "import pandas as pd\n",
    "from sklearn.decomposition import PCA\n",
    "from Jvis import JTSNEBASE, JTSNE\n",
    "from sklearn.cluster import KMeans\n",
    "from anndata import AnnData\n",
    "import scanpy as sc\n",
    "#from joint_metrics import *"
   ]
  },
  {
   "cell_type": "code",
   "execution_count": null,
   "metadata": {},
   "outputs": [],
   "source": [
    "expr_mat = pd.read_csv(\"./GSE126074_CellLineMixture_SNAREseq_cDNA_counts.tsv\", sep=\"\\t\")"
   ]
  },
  {
   "cell_type": "markdown",
   "metadata": {},
   "source": [
    "Pre-Processing"
   ]
  },
  {
   "cell_type": "code",
   "execution_count": null,
   "metadata": {},
   "outputs": [],
   "source": [
    "scale_factor= 1000\n",
    "print(expr_mat)\n",
    "expr_mat = expr_mat.values\n",
    "print(expr_mat)\n",
    "expr_mat_log_t = np.log(scale_factor*expr_mat+1)"
   ]
  },
  {
   "cell_type": "code",
   "execution_count": null,
   "metadata": {},
   "outputs": [],
   "source": [
    "expr_reduced = PCA(n_components=20).fit_transform(expr_mat_log_t.T)"
   ]
  },
  {
   "cell_type": "code",
   "execution_count": null,
   "metadata": {},
   "outputs": [],
   "source": [
    "joint_tsne= TSNE(init=\"random\").fit_transform(expr_reduced)"
   ]
  },
  {
   "cell_type": "code",
   "execution_count": null,
   "metadata": {},
   "outputs": [],
   "source": [
    "adata = AnnData(X=expr_reduced)\n",
    "sc.pp.neighbors(adata, use_rep=\"X\")\n",
    "sc.tl.louvain(adata, resolution=0.2, key_added=\"louvain\")\n",
    "louv_labels = np.array(adata.obs[\"louvain\"].tolist())\n",
    "louv_labels = [int(x) for x in louv_labels]"
   ]
  },
  {
   "cell_type": "code",
   "execution_count": null,
   "metadata": {},
   "outputs": [],
   "source": [
    "np.unique(louv_labels)"
   ]
  },
  {
   "cell_type": "code",
   "execution_count": 2,
   "metadata": {},
   "outputs": [],
   "source": [
    "vis1 = plt(joint_tsne[:,0], joint_tsne[:,1], s=3, c=louv_labels, alpha=0.8)\n",
    "vis1.xlabel(\"TSNE-1\")\n",
    "vis1.ylabel(\"TSNE-2\")\n",
    "vis1.show()"
   ]
  },
  {
   "cell_type": "code",
   "execution_count": null,
   "metadata": {},
   "outputs": [],
   "source": [
    "def make_noise(expression_matrix, prop, rseed):\n",
    "    np.random.seed(rseed)\n",
    "    n_rows,n_cols =expression_matrix.shape\n",
    "    n_elem=np.round(n_cols*0.8)\n",
    "    s = np.arange(n_cols)\n",
    "    for i in range(n_rows):\n",
    "        row_id = list(np.random.choice(s, size=n_elem, replace=False))\n",
    "        v = expression_matrix[i, row_id]\n",
    "        np.random.shuffle(v)\n",
    "        expression_matrix[i, row_id] = v"
   ]
  },
  {
   "cell_type": "code",
   "execution_count": null,
   "metadata": {},
   "outputs": [],
   "source": [
    "louv_labels=np.array(louv_labels)\n"
   ]
  },
  {
   "cell_type": "code",
   "execution_count": null,
   "metadata": {},
   "outputs": [],
   "source": [
    "cl1=0\n",
    "cl2=1\n",
    "selected_cells = (louv_labels==cl1) + (louv_labels==cl2)\n",
    "expr_matsub = expr_mat[:, selected_cells]\n",
    "make_noise(expression_matrix = expr_matsub, prop = 0.8, random_seed = 0)\n",
    "expr_copy = np.copy(expr_mat)                     \n",
    "expr_copy[:, selected_cells] = expr_matsub"
   ]
  },
  {
   "cell_type": "code",
   "execution_count": null,
   "metadata": {},
   "outputs": [],
   "source": [
    "expr_matsub.shape,expr_copy.shape"
   ]
  },
  {
   "cell_type": "code",
   "execution_count": null,
   "metadata": {},
   "outputs": [],
   "source": [
    "scale_factor=1000\n",
    "expr_mat_log_t = np.log(scale_factor*expr_copy + 1)\n",
    "expr_reduced = PCA(n_components=20).fit_transform(expr_mat_log_t)\n",
    "tsne = TSNE(init=\"random\").fit_transform(expr_reduced)"
   ]
  },
  {
   "cell_type": "code",
   "execution_count": null,
   "metadata": {},
   "outputs": [],
   "source": [
    "from matplotlib.colors import ListedColormap\n",
    "colours = ListedColormap(['r','b','g', 'orange'])\n",
    "classes = ['H1', 'BJ', 'K562', 'GM12878']"
   ]
  },
  {
   "cell_type": "code",
   "execution_count": null,
   "metadata": {},
   "outputs": [],
   "source": [
    "fig = plt.figure(figsize=(4,3))\n",
    "ax = fig.add_subplot(111)\n",
    "ax.scatter(tsne[:,0], tsne[:,1], s=3, c = louv_labels, alpha=0.8, cmap=colours)\n",
    "ax.set_xlabel('tSNE-1')\n",
    "ax.set_ylabel('tSNE-2')\n",
    "ax.set_title('Noise RNA')\n",
    "ax.spines['right'].set_visible(False)\n",
    "ax.spines['top'].set_visible(False)\n",
    "ax.yaxis.set_ticks_position('left')\n",
    "ax.xaxis.set_ticks_position('bottom')\n",
    "plt.savefig('/data/hoan/plots/snare_tsne_noiseRNA.png', bbox_inches='tight')\n",
    "plt.show()"
   ]
  },
  {
   "cell_type": "markdown",
   "metadata": {},
   "source": [
    "ATAC-Seq"
   ]
  },
  {
   "cell_type": "code",
   "execution_count": null,
   "metadata": {},
   "outputs": [],
   "source": [
    "atac_topic_mat = pd.read_csv(\"./GSE126074_CellLineMixture_SNAREseq_chromatin_topics.tsv\", sep=\"\\t\")"
   ]
  },
  {
   "cell_type": "code",
   "execution_count": null,
   "metadata": {},
   "outputs": [],
   "source": [
    "atac_reduced = PCA(n_components=10).fit_transform(atac_topic_mat.values.T)"
   ]
  },
  {
   "cell_type": "code",
   "execution_count": null,
   "metadata": {},
   "outputs": [],
   "source": [
    "atac_reduced.shape"
   ]
  },
  {
   "cell_type": "code",
   "execution_count": null,
   "metadata": {},
   "outputs": [],
   "source": [
    "joint_tsne = TSNE(init=\"random\").fit_transform(atac_reduced)\n",
    "plt.figure(figsize=(4, 3))\n",
    "plt.scatter(joint_tsne[:,0], joint_tsne[:,1], s=3, c = louv_labels)\n",
    "plt.xlabel('tSNE-1')\n",
    "plt.ylabel('tSNE-2')\n",
    "plt.show()"
   ]
  },
  {
   "cell_type": "markdown",
   "metadata": {},
   "source": [
    "Random Modality"
   ]
  },
  {
   "cell_type": "code",
   "execution_count": null,
   "metadata": {},
   "outputs": [],
   "source": [
    "noise_matrix = 100*np.random.rand(1047,20)"
   ]
  },
  {
   "cell_type": "code",
   "execution_count": null,
   "metadata": {},
   "outputs": [],
   "source": [
    "tsne_noisemodality = TSNE(init='pca').fit_transform(noise_matrix)"
   ]
  },
  {
   "cell_type": "code",
   "execution_count": null,
   "metadata": {},
   "outputs": [],
   "source": [
    "noise_tsne = TSNE(init=\"random\").fit_transform(tsne_noisemodality)\n",
    "fig = plt.figure(figsize=(4,3))\n",
    "ax = fig.add_subplot(111)\n",
    "ax.scatter(tsne[:,0], tsne[:,1], s=3, c = louv_labels, alpha=0.8, cmap=colours)\n",
    "ax.set_xlabel('tSNE-1')\n",
    "ax.set_ylabel('tSNE-2')\n",
    "ax.set_title('Noise RNA')\n",
    "ax.spines['right'].set_visible(False)\n",
    "ax.spines['top'].set_visible(False)\n",
    "ax.yaxis.set_ticks_position('left')\n",
    "ax.xaxis.set_ticks_position('bottom')\n",
    "plt.savefig('/data/hoan/plots/snare_tsne_noiseRNA.png', bbox_inches='tight')\n",
    "plt.show()"
   ]
  },
  {
   "cell_type": "markdown",
   "metadata": {},
   "source": [
    "Joint Visualisation"
   ]
  },
  {
   "cell_type": "code",
   "execution_count": null,
   "metadata": {},
   "outputs": [],
   "source": [
    "data = {\"dna\": expr_reduced, \"chromatin\": atac_reduced}\n",
    "joint_tsne_obj = JTSNE(init=\"pca\")\n",
    "joint_tsne = joint_tsne_obj.fit_transform(X = data)"
   ]
  },
  {
   "cell_type": "code",
   "execution_count": null,
   "metadata": {},
   "outputs": [],
   "source": [
    "# kNN = 10\n",
    "# KNI_metrics = KNI(joint_tsne, louv_labels, kNN)\n",
    "# CARI_metrics = CARI(joint_tsne, louv_labels)\n",
    "# print(\"KNI: \", KNI_metrics, \", CARI: \", CARI_metrics)"
   ]
  },
  {
   "cell_type": "code",
   "execution_count": null,
   "metadata": {},
   "outputs": [],
   "source": [
    "fig = plt.figure(figsize=(4,3))\n",
    "ax = fig.add_subplot(111)\n",
    "ax.set_xlabel(\"tsne-1\")\n",
    "ax.set_ylabel(\"tsne-2\")\n",
    "ax.set_label(\"Joint 2 modal\")\n",
    "ax.spines[\"top\"].set_visible=False\n",
    "ax.spines[\"right\"].set_visible=False\n",
    "ax.xaxis.set_ticks_position(\"bottom\")\n",
    "ax.yaxis.set_ticks_position(\"left\")"
   ]
  },
  {
   "cell_type": "markdown",
   "metadata": {},
   "source": [
    "Joint Visualisation 3 modalities"
   ]
  },
  {
   "cell_type": "code",
   "execution_count": null,
   "metadata": {},
   "outputs": [],
   "source": [
    "data = {\"dna\": expr_reduced, \"chromatin\": atac_reduced, \"noise\": noise_matrix}\n",
    "joint_tsne_obj = JTSNE(init=\"pca\")\n",
    "joint_tsne = joint_tsne_obj.fit_transform(X = data, method=\"auto\", _lambda = 3)"
   ]
  },
  {
   "cell_type": "code",
   "execution_count": null,
   "metadata": {},
   "outputs": [],
   "source": [
    "fig = plt.figure(figsize=(4.3))\n",
    "ax = fig.add_subplot(111)\n",
    "ax.set_xlabel(\"tsne-1\")\n",
    "ax.set_ylabel(\"tsne-2\")\n",
    "ax.set_label(\"Joint 3 modal\")\n",
    "ax.spines[\"top\"].set_visible=False\n",
    "ax.spines[\"right\"].set_visible=False\n",
    "ax.xaxis.set_ticks_position(\"bottom\")\n",
    "ax.yaxis.set_ticks_position(\"left\")"
   ]
  }
 ],
 "metadata": {
  "kernelspec": {
   "display_name": "Python 3.10.8 64-bit",
   "language": "python",
   "name": "python3"
  },
  "language_info": {
   "codemirror_mode": {
    "name": "ipython",
    "version": 3
   },
   "file_extension": ".py",
   "mimetype": "text/x-python",
   "name": "python",
   "nbconvert_exporter": "python",
   "pygments_lexer": "ipython3",
   "version": "3.10.8"
  },
  "orig_nbformat": 4,
  "vscode": {
   "interpreter": {
    "hash": "dc6ee969dc80ec7cb059a3b3aa577dd5b52c73d7d4d8e3fc84be173ba7cb0662"
   }
  }
 },
 "nbformat": 4,
 "nbformat_minor": 2
}
